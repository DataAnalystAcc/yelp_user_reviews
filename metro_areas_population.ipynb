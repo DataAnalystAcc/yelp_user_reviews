{
 "cells": [
  {
   "cell_type": "code",
   "execution_count": null,
   "id": "a4c35074",
   "metadata": {},
   "outputs": [],
   "source": [
    "import numpy as np\n",
    "import pandas as pd\n",
    "\n",
    "\n",
    "from dotenv import dotenv_values\n",
    "from sqlalchemy import create_engine, types\n",
    "from sqlalchemy.dialects.postgresql import JSON as postgres_json\n",
    "from datetime import datetime\n",
    "\n"
   ]
  },
  {
   "cell_type": "code",
   "execution_count": null,
   "id": "d067c790",
   "metadata": {},
   "outputs": [],
   "source": [
    "business_df = pd.read_json(\"./data/yelp_academic_dataset_business.json\", lines=True)"
   ]
  },
  {
   "cell_type": "code",
   "execution_count": null,
   "id": "02a041c1",
   "metadata": {},
   "outputs": [],
   "source": [
    "business_df.shape"
   ]
  },
  {
   "cell_type": "code",
   "execution_count": null,
   "id": "78dd7b08",
   "metadata": {},
   "outputs": [],
   "source": [
    "business_df.head()"
   ]
  },
  {
   "cell_type": "code",
   "execution_count": null,
   "id": "eb9c75fa",
   "metadata": {},
   "outputs": [],
   "source": [
    "business_df[\"state\"].value_counts()"
   ]
  },
  {
   "cell_type": "code",
   "execution_count": null,
   "id": "4917bb97",
   "metadata": {},
   "outputs": [],
   "source": [
    "pop_df = pd.read_csv(\"./data/cbsa-est2019-alldata.csv\", encoding='latin1')"
   ]
  },
  {
   "cell_type": "code",
   "execution_count": null,
   "id": "0493cac9",
   "metadata": {},
   "outputs": [],
   "source": [
    "pop_df.head()"
   ]
  },
  {
   "cell_type": "code",
   "execution_count": null,
   "id": "5a941ed9",
   "metadata": {},
   "outputs": [],
   "source": [
    "pop_df.shape"
   ]
  },
  {
   "cell_type": "code",
   "execution_count": null,
   "id": "b6ba3a54",
   "metadata": {},
   "outputs": [],
   "source": [
    "search_strings = ['Philadelphia-Camden', 'Tampa-St.', 'Nashville', 'Indianapolis', 'St. Louis, MO-IL', 'New Orleans', 'Tucson', 'Reno, NV', 'Santa Maria-Santa Barbara', 'Boise City']\n",
    "pattern = '|'.join(search_strings)\n",
    "\n",
    "# Filter for exact matches\n",
    "df_metros = pop_df[pop_df['NAME'].str.contains(pattern, case=False, na=False)]"
   ]
  },
  {
   "cell_type": "code",
   "execution_count": null,
   "id": "29dd559b",
   "metadata": {},
   "outputs": [],
   "source": [
    "df_metros"
   ]
  },
  {
   "cell_type": "code",
   "execution_count": null,
   "id": "62999b19",
   "metadata": {},
   "outputs": [],
   "source": [
    "# take just the needed columns\n",
    "df_metros = df_metros.iloc[:, 3:17]"
   ]
  },
  {
   "cell_type": "code",
   "execution_count": null,
   "id": "6bfa58eb",
   "metadata": {},
   "outputs": [],
   "source": [
    "df_metros.columns[3:14]"
   ]
  },
  {
   "cell_type": "code",
   "execution_count": null,
   "id": "1444ef38",
   "metadata": {},
   "outputs": [],
   "source": [
    "# rename the columns, stripping just the year\n",
    "columns_to_rename = df_metros.columns[3:14]\n",
    "\n",
    "# Create a mapping for just those columns\n",
    "rename_dict = {col: col[-4:] for col in columns_to_rename}\n",
    "df_metros = df_metros.rename(columns=rename_dict)\n",
    "\n",
    "#rename the  city names column\n",
    "df_metros = df_metros.rename(columns={'NAME': 'metro'})"
   ]
  },
  {
   "cell_type": "code",
   "execution_count": null,
   "id": "667f8ba9",
   "metadata": {},
   "outputs": [],
   "source": [
    "# drop more unnecessary columns\n",
    "df_metros.drop(columns=['LSAD', 'CENSUS2010POP'], inplace=True)"
   ]
  },
  {
   "cell_type": "code",
   "execution_count": null,
   "id": "b79045f8",
   "metadata": {},
   "outputs": [],
   "source": [
    "# change the name of the metro areas\n",
    "df_metros['metro'] = df_metros['metro'].str.split(r'[,\\s-]').str[0]"
   ]
  },
  {
   "cell_type": "code",
   "execution_count": null,
   "id": "759e06e5",
   "metadata": {},
   "outputs": [],
   "source": [
    "df_metros['metro'] = df_metros['metro'].replace({'New': 'New Orleans', 'St.': 'St. Louis', 'Santa': 'Santa Barbara'})"
   ]
  },
  {
   "cell_type": "code",
   "execution_count": null,
   "id": "324177c8",
   "metadata": {},
   "outputs": [],
   "source": [
    "df_metros"
   ]
  },
  {
   "cell_type": "code",
   "execution_count": null,
   "id": "832f13e0",
   "metadata": {},
   "outputs": [],
   "source": [
    "# melt the table\n",
    "df_long = df_metros.melt(id_vars='metro', var_name='Year', value_name='Population')\n",
    "print(df_long)"
   ]
  },
  {
   "cell_type": "markdown",
   "id": "8e7ec6d8",
   "metadata": {},
   "source": [
    "# Loading the population data to SQL"
   ]
  },
  {
   "cell_type": "code",
   "execution_count": null,
   "id": "3fd20853",
   "metadata": {},
   "outputs": [],
   "source": [
    "# getting API and DB credentials - Alternative 1: dotenv_values()\n",
    "\n",
    "config = dotenv_values()\n",
    " \n",
    "pg_user = config['POSTGRES_USER'] # align the key labels with your .env file\n",
    "pg_host = config['POSTGRES_HOST']\n",
    "pg_port = config['POSTGRES_PORT']\n",
    "pg_db = config['POSTGRES_DB']\n",
    "pg_schema = config['POSTGRES_SCHEMA']\n",
    "pg_pass = config['POSTGRES_PASS']"
   ]
  },
  {
   "cell_type": "code",
   "execution_count": null,
   "id": "7265e8dd",
   "metadata": {},
   "outputs": [],
   "source": [
    "# updating the url\n",
    "url = f'postgresql://{pg_user}:{pg_pass}@{pg_host}:{pg_port}/{pg_db}'\n",
    "\n",
    "# creating the engine\n",
    "engine = create_engine(url, echo=False)"
   ]
  },
  {
   "cell_type": "code",
   "execution_count": null,
   "id": "2f39aeae",
   "metadata": {},
   "outputs": [],
   "source": [
    "engine.url # checking the url (password is hidden)"
   ]
  },
  {
   "cell_type": "code",
   "execution_count": null,
   "id": "11550d47",
   "metadata": {},
   "outputs": [],
   "source": [
    "# writing population dataframe to SQL\n",
    "df_long.to_sql(name = 'population_by_metro', \n",
    "                       con = engine, \n",
    "                       schema = pg_schema, # pandas is allowing to specify, in which schema the table shall be created\n",
    "                       if_exists='replace', \n",
    "                       index=False\n",
    "                      )"
   ]
  },
  {
   "cell_type": "code",
   "execution_count": null,
   "id": "928639b0",
   "metadata": {},
   "outputs": [],
   "source": []
  }
 ],
 "metadata": {
  "kernelspec": {
   "display_name": "base",
   "language": "python",
   "name": "python3"
  },
  "language_info": {
   "codemirror_mode": {
    "name": "ipython",
    "version": 3
   },
   "file_extension": ".py",
   "mimetype": "text/x-python",
   "name": "python",
   "nbconvert_exporter": "python",
   "pygments_lexer": "ipython3",
   "version": "3.9.21"
  }
 },
 "nbformat": 4,
 "nbformat_minor": 5
}
