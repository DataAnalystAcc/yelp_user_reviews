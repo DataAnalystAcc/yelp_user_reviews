{
 "cells": [
  {
   "cell_type": "code",
   "execution_count": null,
   "id": "a30f36b9",
   "metadata": {},
   "outputs": [],
   "source": [
    "import pandas as pd\n",
    "import json"
   ]
  },
  {
   "cell_type": "markdown",
   "id": "7e5ebc61",
   "metadata": {},
   "source": [
    "# Business"
   ]
  },
  {
   "cell_type": "code",
   "execution_count": null,
   "id": "23fec6c8",
   "metadata": {},
   "outputs": [],
   "source": [
    "# read in the first 1000 lines of the json file\n",
    "\n",
    "records = []\n",
    "with open(\"./data/yelp_academic_dataset_business.json\", \"r\") as f:\n",
    "    for i, line in enumerate(f):\n",
    "        if i >= 1000:  # Change this number to get more/less\n",
    "            break\n",
    "        try:\n",
    "            record = json.loads(line)\n",
    "            records.append(record)\n",
    "        except json.JSONDecodeError:\n",
    "            print(f\"Skipping bad line {i}\")\n",
    "\n",
    "df_business = pd.DataFrame(records)"
   ]
  },
  {
   "cell_type": "code",
   "execution_count": null,
   "id": "ada3cf35",
   "metadata": {},
   "outputs": [],
   "source": [
    "df_business.head()\n"
   ]
  },
  {
   "cell_type": "code",
   "execution_count": null,
   "id": "19716b1a",
   "metadata": {},
   "outputs": [],
   "source": [
    "df_business.info()"
   ]
  },
  {
   "cell_type": "markdown",
   "id": "f401030e",
   "metadata": {},
   "source": [
    "## Categories in Business file"
   ]
  },
  {
   "cell_type": "code",
   "execution_count": null,
   "id": "24bcd309",
   "metadata": {},
   "outputs": [],
   "source": [
    "col_series = df_business.iloc[:, 12]\n",
    "split_lists = col_series.dropna().apply(lambda x: [item.strip() for item in x.split(',')])\n",
    "all_elements = [item for sublist in split_lists for item in sublist]\n",
    "unique_elements = set(all_elements)\n",
    "print(\"Unique elements:\", unique_elements)\n",
    "print(\"Total unique elements:\", len(unique_elements))"
   ]
  },
  {
   "cell_type": "code",
   "execution_count": null,
   "id": "355f9c5e",
   "metadata": {},
   "outputs": [],
   "source": [
    "def elements_count(my_data_local, col_index_local, sep_local=\",\"):\n",
    "    element_count_dict = {}\n",
    "\n",
    "    # go through each entry (row) in the dataset\n",
    "    for _, row in my_data_local.iterrows():\n",
    "        # take the value from the given column index\n",
    "        value = row.iloc[col_index_local]\n",
    "        \n",
    "        # check if the value is a string (avoid errors with NaN/None)\n",
    "        if isinstance(value, str):\n",
    "            # split the string by the separator\n",
    "            new_elements = value.split(sep_local)\n",
    "            \n",
    "            # iterate over the separated values\n",
    "            for i in new_elements:\n",
    "                i = i.strip()  # clean up whitespace\n",
    "                # check if the string is already in the dictionary - if not, set it as key with value 1\n",
    "                if i not in element_count_dict:\n",
    "                    element_count_dict[i] = 1\n",
    "                # if we already have this key, increase the value by 1\n",
    "                else:\n",
    "                    element_count_dict[i] += 1\n",
    "\n",
    "    # sort the dictionary based on values, descending\n",
    "    sorted_elements_count = dict(sorted(element_count_dict.items(), key=lambda item: item[1], reverse=True))\n",
    "    return sorted_elements_count"
   ]
  },
  {
   "cell_type": "code",
   "execution_count": null,
   "id": "9a7143db",
   "metadata": {},
   "outputs": [],
   "source": [
    "elements_count(df_business, 12)"
   ]
  },
  {
   "cell_type": "markdown",
   "id": "9219a928",
   "metadata": {},
   "source": [
    "Filtering by category:"
   ]
  },
  {
   "cell_type": "code",
   "execution_count": null,
   "id": "6d61b675",
   "metadata": {},
   "outputs": [],
   "source": [
    "filtered_df = df_business[df_business['categories'].str.contains('Bars', na=False)]\n",
    "filtered_df"
   ]
  },
  {
   "cell_type": "markdown",
   "id": "bf4dfc23",
   "metadata": {},
   "source": [
    "# Reviews"
   ]
  },
  {
   "cell_type": "code",
   "execution_count": null,
   "id": "56bed199",
   "metadata": {},
   "outputs": [],
   "source": [
    "records = []\n",
    "with open(\"./data/yelp_academic_dataset_review.json\", \"r\") as f:\n",
    "    for i, line in enumerate(f):\n",
    "        if i >= 1000:  # Change this number to get more/less\n",
    "            break\n",
    "        try:\n",
    "            record = json.loads(line)\n",
    "            records.append(record)\n",
    "        except json.JSONDecodeError:\n",
    "            print(f\"Skipping bad line {i}\")\n",
    "\n",
    "df_reviews = pd.DataFrame(records)"
   ]
  },
  {
   "cell_type": "code",
   "execution_count": null,
   "id": "1d98985e",
   "metadata": {},
   "outputs": [],
   "source": [
    "df_reviews.head()"
   ]
  },
  {
   "cell_type": "code",
   "execution_count": null,
   "id": "58ed16da",
   "metadata": {},
   "outputs": [],
   "source": [
    "# read in the lines only from the year...\n",
    "records = []\n",
    "with open(\"./data/yelp_academic_dataset_review.json\", \"r\") as f:\n",
    "    for i, line in enumerate(f):\n",
    "        try:\n",
    "            record = json.loads(line)\n",
    "            year_field = record.get(\"date\")\n",
    "            if year_field and \"2020\" in str(year_field):\n",
    "                records.append(record)\n",
    "        except json.JSONDecodeError:\n",
    "            print(f\"Skipping bad line {i}\")\n",
    "\n",
    "df_review2020 = pd.DataFrame(records)"
   ]
  },
  {
   "cell_type": "code",
   "execution_count": null,
   "id": "a63f74f1",
   "metadata": {},
   "outputs": [],
   "source": [
    "df_review2020.shape"
   ]
  },
  {
   "cell_type": "markdown",
   "id": "354108ba",
   "metadata": {},
   "source": [
    "## Checking how much data is for year 2022\n",
    "Last year that contains data"
   ]
  },
  {
   "cell_type": "code",
   "execution_count": null,
   "id": "5d3bb3bb",
   "metadata": {},
   "outputs": [],
   "source": [
    "df_review2022['date'] = pd.to_datetime(df_review2022['date'])"
   ]
  },
  {
   "cell_type": "code",
   "execution_count": null,
   "id": "8f53bfc5",
   "metadata": {},
   "outputs": [],
   "source": [
    "df_review2022.sort_values(['date'])\n"
   ]
  },
  {
   "cell_type": "code",
   "execution_count": null,
   "id": "2480e5ff",
   "metadata": {},
   "outputs": [],
   "source": [
    "df_review2019.shape"
   ]
  },
  {
   "cell_type": "markdown",
   "id": "224c7318",
   "metadata": {},
   "source": [
    "# Check-ins"
   ]
  },
  {
   "cell_type": "code",
   "execution_count": null,
   "id": "6ffb20a9",
   "metadata": {},
   "outputs": [],
   "source": [
    "records = []\n",
    "with open(\"./data/yelp_academic_dataset_checkin.json\", \"r\") as f:\n",
    "    for i, line in enumerate(f):\n",
    "        if i >= 1000:  # Change this number to get more/less\n",
    "            break\n",
    "        try:\n",
    "            record = json.loads(line)\n",
    "            records.append(record)\n",
    "        except json.JSONDecodeError:\n",
    "            print(f\"Skipping bad line {i}\")\n",
    "\n",
    "df_checkin = pd.DataFrame(records)"
   ]
  },
  {
   "cell_type": "code",
   "execution_count": null,
   "id": "a082b6c0",
   "metadata": {},
   "outputs": [],
   "source": [
    "df_checkin.head()"
   ]
  },
  {
   "cell_type": "code",
   "execution_count": null,
   "id": "755f8feb",
   "metadata": {},
   "outputs": [],
   "source": [
    "# read in the lines only from the year...\n",
    "records = []\n",
    "with open(\"./data/yelp_academic_dataset_checkin.json\", \"r\") as f:\n",
    "    for i, line in enumerate(f):\n",
    "        try:\n",
    "            record = json.loads(line)\n",
    "            year_field = record.get(\"date\")\n",
    "            if year_field and \"2023\" in str(year_field):\n",
    "                records.append(record)\n",
    "        except json.JSONDecodeError:\n",
    "            print(f\"Skipping bad line {i}\")\n",
    "\n",
    "df_checkin2023 = pd.DataFrame(records)"
   ]
  },
  {
   "cell_type": "code",
   "execution_count": null,
   "id": "99a8b4ab",
   "metadata": {},
   "outputs": [],
   "source": [
    "df_checkin2023"
   ]
  },
  {
   "cell_type": "markdown",
   "id": "9639f481",
   "metadata": {},
   "source": [
    "# User"
   ]
  },
  {
   "cell_type": "code",
   "execution_count": null,
   "id": "88f67263",
   "metadata": {},
   "outputs": [],
   "source": [
    "records = []\n",
    "with open(\"./data/yelp_academic_dataset_user.json\", \"r\") as f:\n",
    "    for i, line in enumerate(f):\n",
    "        if i >= 1000:  # Change this number to get more/less\n",
    "            break\n",
    "        try:\n",
    "            record = json.loads(line)\n",
    "            records.append(record)\n",
    "        except json.JSONDecodeError:\n",
    "            print(f\"Skipping bad line {i}\")\n",
    "\n",
    "df_user = pd.DataFrame(records)"
   ]
  },
  {
   "cell_type": "code",
   "execution_count": null,
   "id": "eca2c158",
   "metadata": {},
   "outputs": [],
   "source": [
    "df_user.head()"
   ]
  },
  {
   "cell_type": "code",
   "execution_count": null,
   "id": "9af249d4",
   "metadata": {},
   "outputs": [],
   "source": [
    "df_user.info()"
   ]
  },
  {
   "cell_type": "code",
   "execution_count": null,
   "id": "7a047724",
   "metadata": {},
   "outputs": [],
   "source": [
    "print(df_user.columns.tolist())"
   ]
  },
  {
   "cell_type": "code",
   "execution_count": null,
   "id": "0f607d70",
   "metadata": {},
   "outputs": [],
   "source": [
    "# read in the lines only from the year...\n",
    "records = []\n",
    "with open(\"./data/yelp_academic_dataset_user.json\", \"r\") as f:\n",
    "    for i, line in enumerate(f):\n",
    "        try:\n",
    "            record = json.loads(line)\n",
    "            year_field = record.get(\"yelping_since\")\n",
    "            if year_field and \"2023\" in str(year_field):\n",
    "                records.append(record)\n",
    "        except json.JSONDecodeError:\n",
    "            print(f\"Skipping bad line {i}\")\n",
    "\n",
    "df_user_since = pd.DataFrame(records)"
   ]
  },
  {
   "cell_type": "code",
   "execution_count": null,
   "id": "0474646a",
   "metadata": {},
   "outputs": [],
   "source": [
    "df_user_since.head()"
   ]
  }
 ],
 "metadata": {
  "kernelspec": {
   "display_name": "base",
   "language": "python",
   "name": "python3"
  },
  "language_info": {
   "codemirror_mode": {
    "name": "ipython",
    "version": 3
   },
   "file_extension": ".py",
   "mimetype": "text/x-python",
   "name": "python",
   "nbconvert_exporter": "python",
   "pygments_lexer": "ipython3",
   "version": "3.9.21"
  }
 },
 "nbformat": 4,
 "nbformat_minor": 5
}
