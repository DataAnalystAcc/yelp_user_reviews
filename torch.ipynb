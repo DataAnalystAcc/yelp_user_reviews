{
 "cells": [
  {
   "cell_type": "code",
   "execution_count": null,
   "id": "12408c1e",
   "metadata": {},
   "outputs": [],
   "source": [
    "import torch"
   ]
  },
  {
   "cell_type": "code",
   "execution_count": null,
   "id": "5a9bb6a9",
   "metadata": {},
   "outputs": [],
   "source": [
    "torch.backends.mps.is_available()"
   ]
  },
  {
   "cell_type": "code",
   "execution_count": null,
   "id": "5535c59f",
   "metadata": {},
   "outputs": [],
   "source": [
    "\n",
    "print(f\"Torch version: {torch.__version__}\")\n",
    "print(f\"CUDA available: {torch.cuda.is_available()}\")\n",
    "print(f\"MPS available: {torch.backends.mps.is_available()}\")"
   ]
  },
  {
   "cell_type": "code",
   "execution_count": null,
   "id": "fdddfb9e",
   "metadata": {},
   "outputs": [],
   "source": [
    "# Use CPU\n",
    "#device = torch.device(\"cpu\")\n",
    "\n",
    "# Use MPS (Apple GPU)\n",
    "device = torch.device(\"mps\" if torch.backends.mps.is_available() else \"cpu\")"
   ]
  },
  {
   "cell_type": "code",
   "execution_count": null,
   "id": "97fc437f",
   "metadata": {},
   "outputs": [],
   "source": [
    "x = torch.tensor([1.0, 2.0]).to(\"mps\")  # or \"cpu\"\n",
    "print(x.device)"
   ]
  }
 ],
 "metadata": {
  "language_info": {
   "name": "python"
  }
 },
 "nbformat": 4,
 "nbformat_minor": 5
}
