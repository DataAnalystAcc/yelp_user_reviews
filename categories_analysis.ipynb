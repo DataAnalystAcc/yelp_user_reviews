{
 "cells": [
  {
   "cell_type": "code",
   "execution_count": null,
   "id": "ee934582",
   "metadata": {},
   "outputs": [],
   "source": [
    "import pandas as pd\n",
    "import numpy as np\n",
    "\n",
    "from mlxtend.preprocessing import TransactionEncoder\n",
    "from mlxtend.frequent_patterns import apriori\n",
    "from mlxtend.frequent_patterns import association_rules\n",
    "\n",
    "import seaborn as sns\n",
    "import matplotlib.pyplot as plt\n",
    "\n",
    "\n",
    "from dotenv import dotenv_values\n",
    "from sqlalchemy import create_engine, types\n",
    "from sqlalchemy.dialects.postgresql import JSON as postgres_json"
   ]
  },
  {
   "cell_type": "code",
   "execution_count": null,
   "id": "6dfeffd4",
   "metadata": {},
   "outputs": [],
   "source": [
    "business_full = pd.read_json(\"./data/yelp_academic_dataset_business.json\", lines=True)"
   ]
  },
  {
   "cell_type": "code",
   "execution_count": null,
   "id": "508f8652",
   "metadata": {},
   "outputs": [],
   "source": [
    "cat = pd.DataFrame(business_full['categories'])"
   ]
  },
  {
   "cell_type": "code",
   "execution_count": null,
   "id": "7beed414",
   "metadata": {},
   "outputs": [],
   "source": [
    "cat.info()"
   ]
  },
  {
   "cell_type": "code",
   "execution_count": null,
   "id": "2c3626d1",
   "metadata": {},
   "outputs": [],
   "source": [
    "# Step 1: Handle missing values by replacing with empty string\n",
    "cat['categories'] = cat['categories'].fillna('')\n",
    "\n",
    "# Step 2: Convert comma-separated strings to cleaned lists\n",
    "cat['categories'] = cat['categories'].apply(lambda x: [e.strip() for e in x.split(',')])"
   ]
  },
  {
   "cell_type": "code",
   "execution_count": null,
   "id": "b09ee2bc",
   "metadata": {},
   "outputs": [],
   "source": [
    "print(type(cat['categories'].iloc[0]))\n"
   ]
  },
  {
   "cell_type": "code",
   "execution_count": null,
   "id": "73e168f7",
   "metadata": {},
   "outputs": [],
   "source": [
    "print(cat['categories'].iloc[0]) "
   ]
  },
  {
   "cell_type": "code",
   "execution_count": null,
   "id": "38877142",
   "metadata": {},
   "outputs": [],
   "source": [
    "cat.info()"
   ]
  },
  {
   "cell_type": "code",
   "execution_count": null,
   "id": "6169b67f",
   "metadata": {},
   "outputs": [],
   "source": [
    "cat"
   ]
  },
  {
   "cell_type": "code",
   "execution_count": null,
   "id": "d967fbdc",
   "metadata": {},
   "outputs": [],
   "source": [
    "# Step 3: One-hot encode the data for mlxtend\n",
    "te = TransactionEncoder()\n",
    "te_ary = te.fit(cat['categories']).transform(cat['categories'])\n",
    "df_encoded = pd.DataFrame(te_ary, columns=te.columns_)"
   ]
  },
  {
   "cell_type": "code",
   "execution_count": null,
   "id": "177f532d",
   "metadata": {},
   "outputs": [],
   "source": [
    "print('\\nOne-Hot Encoded DataFrame:')\n",
    "print(df_encoded)"
   ]
  },
  {
   "cell_type": "code",
   "execution_count": null,
   "id": "0eaa9b8e",
   "metadata": {},
   "outputs": [],
   "source": [
    "# Step 4: Find frequent itemsets\n",
    "frequent_itemsets = apriori(df_encoded, min_support=0.01, use_colnames=True)\n",
    "\n",
    "print('\\nFrequent Itemsets:')\n",
    "print(frequent_itemsets.sort_values(by='support', ascending=False))\n"
   ]
  },
  {
   "cell_type": "code",
   "execution_count": null,
   "id": "5729ac30",
   "metadata": {},
   "outputs": [],
   "source": [
    "frequent_itemsets = frequent_itemsets.sort_values(by='support', ascending=False)"
   ]
  },
  {
   "cell_type": "code",
   "execution_count": null,
   "id": "1ecef9f9",
   "metadata": {},
   "outputs": [],
   "source": [
    "frequent_itemsets.head(50)"
   ]
  },
  {
   "cell_type": "code",
   "execution_count": null,
   "id": "f8bc6aa8",
   "metadata": {},
   "outputs": [],
   "source": [
    "df_filtered = cat[cat['categories'].apply(lambda x: len(x) > 1)]"
   ]
  },
  {
   "cell_type": "code",
   "execution_count": null,
   "id": "cb85c446",
   "metadata": {},
   "outputs": [],
   "source": [
    "df_filtered.shape"
   ]
  },
  {
   "cell_type": "code",
   "execution_count": null,
   "id": "7a8b47b4",
   "metadata": {},
   "outputs": [],
   "source": [
    "df_filtered"
   ]
  },
  {
   "cell_type": "code",
   "execution_count": null,
   "id": "9b2a40de",
   "metadata": {},
   "outputs": [],
   "source": [
    "cat.shape"
   ]
  },
  {
   "cell_type": "code",
   "execution_count": null,
   "id": "7b7ba00e",
   "metadata": {},
   "outputs": [],
   "source": [
    "# Step 3: One-hot encode the data for mlxtend\n",
    "te = TransactionEncoder()\n",
    "te_ary = te.fit(df_filtered['categories']).transform(df_filtered['categories'])\n",
    "df_encoded = pd.DataFrame(te_ary, columns=te.columns_)"
   ]
  },
  {
   "cell_type": "code",
   "execution_count": null,
   "id": "07caaaac",
   "metadata": {},
   "outputs": [],
   "source": [
    "# Step 4: Find frequent itemsets\n",
    "frequent_itemsets = apriori(df_encoded, min_support=0.01, use_colnames=True)\n",
    "\n",
    "print('\\nFrequent Itemsets:')\n",
    "print(frequent_itemsets.sort_values(by='support', ascending=False))"
   ]
  },
  {
   "cell_type": "code",
   "execution_count": null,
   "id": "ecf788ff",
   "metadata": {},
   "outputs": [],
   "source": [
    "# Keep only itemsets with at least 2 items\n",
    "frequent_itemsets = frequent_itemsets[frequent_itemsets['itemsets'].apply(lambda x: len(x) > 1)]\n"
   ]
  },
  {
   "cell_type": "code",
   "execution_count": null,
   "id": "c309e457",
   "metadata": {},
   "outputs": [],
   "source": [
    "frequent_itemsets = frequent_itemsets.sort_values(by='support', ascending=False)\n",
    "frequent_itemsets.head(50)"
   ]
  },
  {
   "cell_type": "code",
   "execution_count": null,
   "id": "a361f3b6",
   "metadata": {},
   "outputs": [],
   "source": [
    "business_full[business_full['categories'] == 'Home Services']"
   ]
  },
  {
   "cell_type": "markdown",
   "id": "6b21c0ba",
   "metadata": {},
   "source": [
    "# Defining key categories"
   ]
  },
  {
   "cell_type": "code",
   "execution_count": null,
   "id": "eb445ec6",
   "metadata": {},
   "outputs": [],
   "source": [
    "# define key categories to filter on\n",
    "key_categories = ['Restaurants', \n",
    "                  'Coffee & Tea', \n",
    "                  'Shopping', \n",
    "                  'Automotive', \n",
    "                  'Beauty & Spas', \n",
    "                  'Health & Medical', \n",
    "                  'Hotels & Travel', \n",
    "                  'Active Life', \n",
    "                  'Arts & Entertainment', \n",
    "                  'Home Services', \n",
    "                  'Local Services',\n",
    "                  'Nightlife']\n",
    "len(key_categories)"
   ]
  },
  {
   "cell_type": "markdown",
   "id": "5c68b8a7",
   "metadata": {},
   "source": [
    "## Dataframe containing only key categories"
   ]
  },
  {
   "cell_type": "code",
   "execution_count": null,
   "id": "ec0327b5",
   "metadata": {},
   "outputs": [],
   "source": [
    "# define the OR pattern, to filter the dataframe if *any* one of the categories is present\n",
    "pattern = '|'.join(key_categories)\n",
    "\n",
    "# filter the dataframe\n",
    "filtered_df = business_full[business_full['categories'].str.contains(pattern, case=False, na=False)]\n"
   ]
  },
  {
   "cell_type": "code",
   "execution_count": null,
   "id": "55102894",
   "metadata": {},
   "outputs": [],
   "source": [
    "business_full.shape"
   ]
  },
  {
   "cell_type": "code",
   "execution_count": null,
   "id": "56ebe113",
   "metadata": {},
   "outputs": [],
   "source": [
    "filtered_df.shape[0]"
   ]
  },
  {
   "cell_type": "code",
   "execution_count": null,
   "id": "e30877be",
   "metadata": {},
   "outputs": [],
   "source": [
    "# what's the percentage of our full dataset that these categories cover?\n",
    "filtered_df.shape[0] / business_full.shape[0]"
   ]
  },
  {
   "cell_type": "code",
   "execution_count": null,
   "id": "1810a3f2",
   "metadata": {},
   "outputs": [],
   "source": [
    "filtered_df.head()"
   ]
  },
  {
   "cell_type": "code",
   "execution_count": null,
   "id": "c3a55fc2",
   "metadata": {},
   "outputs": [],
   "source": [
    "counts = {substring: filtered_df['categories'].str.contains(substring, case=False, na=False).sum() for substring in key_categories}\n",
    "counts_df = pd.DataFrame.from_dict(counts, orient='index', columns=['count'])\n",
    "print(counts_df)\n",
    "\n"
   ]
  },
  {
   "cell_type": "code",
   "execution_count": null,
   "id": "1c79f4d8",
   "metadata": {},
   "outputs": [],
   "source": [
    "total_rows = len(filtered_df)\n",
    "\n",
    "# Calculate percentages\n",
    "percentages = {\n",
    "    substring: (filtered_df['categories'].str.contains(substring, case=False, na=False).sum() / total_rows) * 100\n",
    "    for substring in key_categories\n",
    "}\n",
    "\n",
    "# Display as a DataFrame\n",
    "percentages_df = pd.DataFrame.from_dict(percentages, orient='index', columns=['percentage'])\n",
    "percentages_df.sort_values(by='percentage', ascending=False).round(1)\n"
   ]
  },
  {
   "cell_type": "code",
   "execution_count": null,
   "id": "2670c467",
   "metadata": {},
   "outputs": [],
   "source": [
    "# our percentages add up to more than 100! that means there are rows which contain multiple categories\n",
    "sum(percentages_df[\"percentage\"])"
   ]
  },
  {
   "cell_type": "code",
   "execution_count": null,
   "id": "e0d3f55b",
   "metadata": {},
   "outputs": [],
   "source": [
    "# Create a boolean DataFrame where each column is True if that substring is found\n",
    "matches = pd.DataFrame({\n",
    "    substring: filtered_df['categories'].str.contains(substring, case=False, na=False)\n",
    "    for substring in key_categories\n",
    "})\n",
    "\n",
    "# Count how many substrings matched in each row\n",
    "match_counts = matches.sum(axis=1)"
   ]
  },
  {
   "cell_type": "code",
   "execution_count": null,
   "id": "c4f7d2a5",
   "metadata": {},
   "outputs": [],
   "source": [
    "match_counts"
   ]
  },
  {
   "cell_type": "code",
   "execution_count": null,
   "id": "c0529162",
   "metadata": {},
   "outputs": [],
   "source": [
    "# Count rows where 2 or more substrings matched\n",
    "rows_with_2_or_more = (match_counts >= 2).sum()\n",
    "rows_with_2_or_more"
   ]
  },
  {
   "cell_type": "code",
   "execution_count": null,
   "id": "e644dd01",
   "metadata": {},
   "outputs": [],
   "source": [
    "# 16.5 % of the data belongs to multiple categories\n",
    "rows_with_2_or_more / filtered_df.shape[0]"
   ]
  },
  {
   "cell_type": "markdown",
   "id": "0d57bcad",
   "metadata": {},
   "source": [
    "# Dataframe containing only key categories, no overlap"
   ]
  },
  {
   "cell_type": "code",
   "execution_count": null,
   "id": "a5f820ab",
   "metadata": {},
   "outputs": [],
   "source": [
    "# select the rows which contain only 1 key category\n",
    "key_cat_df = filtered_df[match_counts == 1]"
   ]
  },
  {
   "cell_type": "code",
   "execution_count": null,
   "id": "b8de3948",
   "metadata": {},
   "outputs": [],
   "source": [
    "key_cat_df"
   ]
  },
  {
   "cell_type": "code",
   "execution_count": null,
   "id": "07a154fb",
   "metadata": {},
   "outputs": [],
   "source": [
    "# how much data did we filter out along the way? \n",
    "\n",
    "# percent of original dataset:\n",
    "\n",
    "key_cat_df.shape[0] / business_full.shape[0]"
   ]
  },
  {
   "cell_type": "code",
   "execution_count": null,
   "id": "4857611c",
   "metadata": {},
   "outputs": [],
   "source": [
    "# display as percentages\n",
    "total_rows = len(key_cat_df)\n",
    "\n",
    "# Calculate percentages\n",
    "percentages = {\n",
    "    substring: (key_cat_df['categories'].str.contains(substring, case=False, na=False).sum() / total_rows) * 100\n",
    "    for substring in key_categories\n",
    "}\n",
    "\n",
    "# Display as a DataFrame\n",
    "percentages_df = pd.DataFrame.from_dict(percentages, orient='index', columns=['percentage'])\n",
    "percentages_df.sort_values(by='percentage', ascending=False)"
   ]
  },
  {
   "cell_type": "code",
   "execution_count": null,
   "id": "dce8142e",
   "metadata": {},
   "outputs": [],
   "source": [
    "sum(percentages_df[\"percentage\"])"
   ]
  },
  {
   "cell_type": "markdown",
   "id": "9f1821cd",
   "metadata": {},
   "source": [
    "## Creating a new column with the key category label"
   ]
  },
  {
   "cell_type": "code",
   "execution_count": null,
   "id": "217252e3",
   "metadata": {},
   "outputs": [],
   "source": [
    "# create a new column that contains the key category label\n",
    "\n",
    "# Identify the substring that matched for each row\n",
    "def get_matched_substring(row):\n",
    "    matched = [substring for substring, is_matched in row.items() if is_matched]\n",
    "    return matched[0] if len(matched) == 1 else None\n",
    "\n",
    "# Apply the function across rows\n",
    "key_cat_df['key_categories'] = matches.apply(get_matched_substring, axis=1)\n",
    "\n",
    "key_cat_df\n"
   ]
  },
  {
   "cell_type": "markdown",
   "id": "3a2f066e",
   "metadata": {},
   "source": [
    "# Uploading the new table to SQL database"
   ]
  },
  {
   "cell_type": "code",
   "execution_count": null,
   "id": "f3f2410b",
   "metadata": {},
   "outputs": [],
   "source": [
    "# getting the DB credentials\n",
    "\n",
    "config = dotenv_values()\n",
    " \n",
    "pg_user = config['POSTGRES_USER'] # align the key labels with your .env file\n",
    "pg_host = config['POSTGRES_HOST']\n",
    "pg_port = config['POSTGRES_PORT']\n",
    "pg_db = config['POSTGRES_DB']\n",
    "pg_schema = config['POSTGRES_SCHEMA']\n",
    "pg_pass = config['POSTGRES_PASS']"
   ]
  },
  {
   "cell_type": "code",
   "execution_count": null,
   "id": "dbc829af",
   "metadata": {},
   "outputs": [],
   "source": [
    "# updating the url\n",
    "url = f'postgresql://{pg_user}:{pg_pass}@{pg_host}:{pg_port}/{pg_db}'\n",
    "\n",
    "# creating the engine\n",
    "engine = create_engine(url, echo=False)"
   ]
  },
  {
   "cell_type": "code",
   "execution_count": null,
   "id": "f45b70ce",
   "metadata": {},
   "outputs": [],
   "source": [
    "engine.url # checking the url (password is hidden)"
   ]
  },
  {
   "cell_type": "code",
   "execution_count": null,
   "id": "984faa90",
   "metadata": {},
   "outputs": [],
   "source": [
    "# define the data types\n",
    "\n",
    "dtype_business = {\n",
    "    'business_id': types.String,\n",
    "    'name': types.String,\n",
    "    'address': types.String,\n",
    "    'city': types.String,\n",
    "    'state': types.String,\n",
    "    'postal_code': types.String,\n",
    "    'latitude': types.Float,\n",
    "    'longitude': types.Float,\n",
    "    'stars': types.Float,\n",
    "    'review_count': types.Integer,\n",
    "    'is_open': types.Integer,\n",
    "    'attributes': types.JSON,\n",
    "    'categories': types.String,\n",
    "    'hours': types.JSON,\n",
    "    'key_categories': types.String\n",
    "             }\n",
    "\n"
   ]
  },
  {
   "cell_type": "code",
   "execution_count": null,
   "id": "2a7a09b2",
   "metadata": {},
   "outputs": [],
   "source": [
    "# writing key categories dataframe to the database\n",
    "key_cat_df.to_sql(name = 'business_key_cat', \n",
    "                       con = engine, \n",
    "                       schema = pg_schema, # pandas is allowing to specify, in which schema the table shall be created\n",
    "                       if_exists='replace', \n",
    "                       dtype = dtype_business,\n",
    "                       index=False\n",
    "                      )"
   ]
  },
  {
   "cell_type": "code",
   "execution_count": null,
   "id": "76fd5540",
   "metadata": {},
   "outputs": [],
   "source": [
    "key_cat_df.info()"
   ]
  },
  {
   "cell_type": "code",
   "execution_count": null,
   "id": "aefd57fa",
   "metadata": {},
   "outputs": [],
   "source": [
    "pd.set_option('display.max_colwidth', 80)"
   ]
  },
  {
   "cell_type": "code",
   "execution_count": null,
   "id": "8a72d6e5",
   "metadata": {},
   "outputs": [],
   "source": [
    "grouped = key_cat_df.groupby('key_categories')['categories'].unique().reset_index()\n",
    "\n",
    "# Rename the column for clarity\n",
    "grouped.rename(columns={'categories': 'distinct_categories'}, inplace=True)\n"
   ]
  },
  {
   "cell_type": "code",
   "execution_count": null,
   "id": "635fa8b1",
   "metadata": {},
   "outputs": [],
   "source": [
    "grouped"
   ]
  },
  {
   "cell_type": "code",
   "execution_count": null,
   "id": "5aeb7acc",
   "metadata": {},
   "outputs": [],
   "source": [
    "grouped = key_cat_df.groupby('key_categories')['categories'].unique().reset_index()"
   ]
  },
  {
   "cell_type": "code",
   "execution_count": null,
   "id": "c8c990e9",
   "metadata": {},
   "outputs": [],
   "source": []
  }
 ],
 "metadata": {
  "kernelspec": {
   "display_name": "base",
   "language": "python",
   "name": "python3"
  },
  "language_info": {
   "codemirror_mode": {
    "name": "ipython",
    "version": 3
   },
   "file_extension": ".py",
   "mimetype": "text/x-python",
   "name": "python",
   "nbconvert_exporter": "python",
   "pygments_lexer": "ipython3",
   "version": "3.9.21"
  }
 },
 "nbformat": 4,
 "nbformat_minor": 5
}
